{
 "cells": [
  {
   "cell_type": "markdown",
   "metadata": {},
   "source": [
    "# Reconnaissance d'images avec TensorFlow\n",
    "Ce notebook décrit de la reconnaissance d'images simples avec un modèle de CNN sur Tensorflow.\n",
    "Il est inspiré d'un [Tutorial Tensorflow](https://www.tensorflow.org/tutorials/layers).\n",
    "\n",
    "Le but est d'apprendre à reconnaitre des chiffres écrits à la main sous forme d'image mono-chrome (de taille 28x28).\n",
    "Il s'agit des données [MNIST](http://yann.lecun.com/exdb/mnist/)\n",
    "\n",
    "## Exemples:\n",
    "<img align=\"left\" src=\"mnist_plot.png\" width=\"400\">\n"
   ]
  },
  {
   "cell_type": "markdown",
   "metadata": {},
   "source": [
    "## Import des librairies\n",
    "En particulier Tensorflow"
   ]
  },
  {
   "cell_type": "code",
   "execution_count": 12,
   "metadata": {},
   "outputs": [],
   "source": [
    "from __future__ import absolute_import\n",
    "from __future__ import division\n",
    "from __future__ import print_function\n",
    "\n",
    "import numpy as np\n",
    "import tensorflow as tf\n",
    "import warnings\n",
    "warnings.filterwarnings('ignore')"
   ]
  },
  {
   "cell_type": "markdown",
   "metadata": {},
   "source": [
    "## Définition du modele\n",
    "Il est basé sur un modèle d'apprentissage profond avec plusieurs couches:\n",
    "* Couche d'entrée (28x28x1)\n",
    "* Couches de Convolution (CNN)\n",
    "* Couches de Max_pooling\n",
    "* Couche de réseau de neurones dense \n",
    "* Couche de sortie correspondant aux 10 chiffres (0 à 9) à classifier"
   ]
  },
  {
   "cell_type": "code",
   "execution_count": 13,
   "metadata": {},
   "outputs": [],
   "source": [
    "tf.logging.set_verbosity(tf.logging.INFO)\n",
    "\n",
    "\n",
    "def cnn_model_fn(features, labels, mode):\n",
    "  \"\"\"Model function for CNN.\"\"\"\n",
    "  # Input Layer\n",
    "  # Reshape X to 4-D tensor: [batch_size, width, height, channels]\n",
    "  # MNIST images are 28x28 pixels, and have one color channel\n",
    "  input_layer = tf.reshape(features[\"x\"], [-1, 28, 28, 1])\n",
    "\n",
    "  # Convolutional Layer #1\n",
    "  # Computes 32 features using a 5x5 filter with ReLU activation.\n",
    "  # Padding is added to preserve width and height.\n",
    "  # Input Tensor Shape: [batch_size, 28, 28, 1]\n",
    "  # Output Tensor Shape: [batch_size, 28, 28, 32]\n",
    "  conv1 = tf.layers.conv2d(\n",
    "      inputs=input_layer,\n",
    "      filters=32,\n",
    "      kernel_size=[5, 5],\n",
    "      padding=\"same\",\n",
    "      activation=tf.nn.relu)\n",
    "\n",
    "  # Pooling Layer #1\n",
    "  # First max pooling layer with a 2x2 filter and stride of 2\n",
    "  # Input Tensor Shape: [batch_size, 28, 28, 32]\n",
    "  # Output Tensor Shape: [batch_size, 14, 14, 32]\n",
    "  pool1 = tf.layers.max_pooling2d(inputs=conv1, pool_size=[2, 2], strides=2)\n",
    "\n",
    "  # Convolutional Layer #2\n",
    "  # Computes 64 features using a 5x5 filter.\n",
    "  # Padding is added to preserve width and height.\n",
    "  # Input Tensor Shape: [batch_size, 14, 14, 32]\n",
    "  # Output Tensor Shape: [batch_size, 14, 14, 64]\n",
    "  conv2 = tf.layers.conv2d(\n",
    "      inputs=pool1,\n",
    "      filters=64,\n",
    "      kernel_size=[5, 5],\n",
    "      padding=\"same\",\n",
    "      activation=tf.nn.relu)\n",
    "\n",
    "  # Pooling Layer #2\n",
    "  # Second max pooling layer with a 2x2 filter and stride of 2\n",
    "  # Input Tensor Shape: [batch_size, 14, 14, 64]\n",
    "  # Output Tensor Shape: [batch_size, 7, 7, 64]\n",
    "  pool2 = tf.layers.max_pooling2d(inputs=conv2, pool_size=[2, 2], strides=2)\n",
    "\n",
    "  # Flatten tensor into a batch of vectors\n",
    "  # Input Tensor Shape: [batch_size, 7, 7, 64]\n",
    "  # Output Tensor Shape: [batch_size, 7 * 7 * 64]\n",
    "  pool2_flat = tf.reshape(pool2, [-1, 7 * 7 * 64])\n",
    "\n",
    "  # Dense Layer\n",
    "  # Densely connected layer with 1024 neurons\n",
    "  # Input Tensor Shape: [batch_size, 7 * 7 * 64]\n",
    "  # Output Tensor Shape: [batch_size, 1024]\n",
    "  dense = tf.layers.dense(inputs=pool2_flat, units=1024, activation=tf.nn.relu)\n",
    "\n",
    "  # Add dropout operation; 0.6 probability that element will be kept\n",
    "  dropout = tf.layers.dropout(\n",
    "      inputs=dense, rate=0.4, training=mode == tf.estimator.ModeKeys.TRAIN)\n",
    "\n",
    "  # Logits layer\n",
    "  # Input Tensor Shape: [batch_size, 1024]\n",
    "  # Output Tensor Shape: [batch_size, 10]\n",
    "  logits = tf.layers.dense(inputs=dropout, units=10)\n",
    "\n",
    "  predictions = {\n",
    "      # Generate predictions (for PREDICT and EVAL mode)\n",
    "      \"classes\": tf.argmax(input=logits, axis=1),\n",
    "      # Add `softmax_tensor` to the graph. It is used for PREDICT and by the\n",
    "      # `logging_hook`.\n",
    "      \"probabilities\": tf.nn.softmax(logits, name=\"softmax_tensor\")\n",
    "  }\n",
    "  if mode == tf.estimator.ModeKeys.PREDICT:\n",
    "    return tf.estimator.EstimatorSpec(mode=mode, predictions=predictions)\n",
    "\n",
    "  # Calculate Loss (for both TRAIN and EVAL modes)\n",
    "  loss = tf.losses.sparse_softmax_cross_entropy(labels=labels, logits=logits)\n",
    "\n",
    "  # Configure the Training Op (for TRAIN mode)\n",
    "  if mode == tf.estimator.ModeKeys.TRAIN:\n",
    "    optimizer = tf.train.GradientDescentOptimizer(learning_rate=0.001)\n",
    "    train_op = optimizer.minimize(\n",
    "        loss=loss,\n",
    "        global_step=tf.train.get_global_step())\n",
    "    return tf.estimator.EstimatorSpec(mode=mode, loss=loss, train_op=train_op)\n",
    "\n",
    "  # Add evaluation metrics (for EVAL mode)\n",
    "  eval_metric_ops = {\n",
    "      \"accuracy\": tf.metrics.accuracy(\n",
    "          labels=labels, predictions=predictions[\"classes\"])}\n",
    "  return tf.estimator.EstimatorSpec(\n",
    "      mode=mode, loss=loss, eval_metric_ops=eval_metric_ops)"
   ]
  },
  {
   "cell_type": "markdown",
   "metadata": {},
   "source": [
    "## Chargement des données d'apprentissage"
   ]
  },
  {
   "cell_type": "code",
   "execution_count": 14,
   "metadata": {},
   "outputs": [
    {
     "name": "stdout",
     "output_type": "stream",
     "text": [
      "Extracting MNIST-data\\train-images-idx3-ubyte.gz\n",
      "Extracting MNIST-data\\train-labels-idx1-ubyte.gz\n",
      "Extracting MNIST-data\\t10k-images-idx3-ubyte.gz\n",
      "Extracting MNIST-data\\t10k-labels-idx1-ubyte.gz\n"
     ]
    }
   ],
   "source": [
    "# Load training and eval data\n",
    "mnist = tf.contrib.learn.datasets.load_dataset(\"mnist\")\n",
    "train_data = mnist.train.images  # Returns np.array\n",
    "train_labels = np.asarray(mnist.train.labels, dtype=np.int32)\n",
    "eval_data = mnist.test.images  # Returns np.array\n",
    "eval_labels = np.asarray(mnist.test.labels, dtype=np.int32)"
   ]
  },
  {
   "cell_type": "code",
   "execution_count": 15,
   "metadata": {},
   "outputs": [
    {
     "name": "stdout",
     "output_type": "stream",
     "text": [
      "Train data: (55000, 784)\n",
      "Test data: (10000, 784)\n"
     ]
    }
   ],
   "source": [
    "print(\"Train data:\",train_data.shape)\n",
    "print(\"Test data:\",eval_data.shape)"
   ]
  },
  {
   "cell_type": "markdown",
   "metadata": {},
   "source": [
    "## Création et entrainement de l'estimateur"
   ]
  },
  {
   "cell_type": "code",
   "execution_count": 16,
   "metadata": {},
   "outputs": [
    {
     "name": "stdout",
     "output_type": "stream",
     "text": [
      "INFO:tensorflow:Using default config.\n",
      "INFO:tensorflow:Using config: {'_model_dir': '.', '_tf_random_seed': None, '_save_summary_steps': 100, '_save_checkpoints_steps': None, '_save_checkpoints_secs': 600, '_session_config': None, '_keep_checkpoint_max': 5, '_keep_checkpoint_every_n_hours': 10000, '_log_step_count_steps': 100, '_service': None, '_cluster_spec': <tensorflow.python.training.server_lib.ClusterSpec object at 0x000001C32ADD3E48>, '_task_type': 'worker', '_task_id': 0, '_master': '', '_is_chief': True, '_num_ps_replicas': 0, '_num_worker_replicas': 1}\n"
     ]
    }
   ],
   "source": [
    "mnist_classifier = tf.estimator.Estimator(model_fn=cnn_model_fn, model_dir=\".\")\n"
   ]
  },
  {
   "cell_type": "code",
   "execution_count": 17,
   "metadata": {},
   "outputs": [],
   "source": [
    "# Set up logging for predictions\n",
    "# Log the values in the \"Softmax\" tensor with label \"probabilities\"\n",
    "tensors_to_log = {\"probabilities\": \"softmax_tensor\"}\n",
    "logging_hook = tf.train.LoggingTensorHook(\n",
    "    tensors=tensors_to_log, every_n_iter=200)"
   ]
  },
  {
   "cell_type": "code",
   "execution_count": 18,
   "metadata": {},
   "outputs": [
    {
     "name": "stdout",
     "output_type": "stream",
     "text": [
      "INFO:tensorflow:Create CheckpointSaverHook.\n",
      "INFO:tensorflow:Restoring parameters from .\\model.ckpt-2200\n",
      "INFO:tensorflow:Saving checkpoints for 2201 into .\\model.ckpt.\n",
      "INFO:tensorflow:loss = 0.7134538, step = 2201\n",
      "INFO:tensorflow:global_step/sec: 20.1297\n",
      "INFO:tensorflow:loss = 0.84040284, step = 2301 (4.969 sec)\n",
      "INFO:tensorflow:global_step/sec: 20.3388\n",
      "INFO:tensorflow:loss = 0.5345657, step = 2401 (4.917 sec)\n",
      "INFO:tensorflow:global_step/sec: 20.3897\n",
      "INFO:tensorflow:loss = 0.54208016, step = 2501 (4.905 sec)\n",
      "INFO:tensorflow:global_step/sec: 20.2762\n",
      "INFO:tensorflow:loss = 0.567592, step = 2601 (4.931 sec)\n",
      "INFO:tensorflow:global_step/sec: 20.3195\n",
      "INFO:tensorflow:loss = 0.40071493, step = 2701 (4.921 sec)\n",
      "INFO:tensorflow:global_step/sec: 20.3691\n",
      "INFO:tensorflow:loss = 0.4642006, step = 2801 (4.909 sec)\n",
      "INFO:tensorflow:global_step/sec: 20.2501\n",
      "INFO:tensorflow:loss = 0.52017635, step = 2901 (4.938 sec)\n",
      "INFO:tensorflow:global_step/sec: 20.3346\n",
      "INFO:tensorflow:loss = 0.60854876, step = 3001 (4.919 sec)\n",
      "INFO:tensorflow:global_step/sec: 20.2893\n",
      "INFO:tensorflow:loss = 0.46564826, step = 3101 (4.929 sec)\n",
      "INFO:tensorflow:global_step/sec: 20.2181\n",
      "INFO:tensorflow:loss = 0.47025248, step = 3201 (4.945 sec)\n",
      "INFO:tensorflow:global_step/sec: 20.2559\n",
      "INFO:tensorflow:loss = 0.3990941, step = 3301 (4.937 sec)\n",
      "INFO:tensorflow:global_step/sec: 20.2978\n",
      "INFO:tensorflow:loss = 0.49718767, step = 3401 (4.928 sec)\n",
      "INFO:tensorflow:global_step/sec: 20.2624\n",
      "INFO:tensorflow:loss = 0.33796665, step = 3501 (4.934 sec)\n",
      "INFO:tensorflow:global_step/sec: 20.3017\n",
      "INFO:tensorflow:loss = 0.35526428, step = 3601 (4.927 sec)\n",
      "INFO:tensorflow:global_step/sec: 20.1462\n",
      "INFO:tensorflow:loss = 0.39302596, step = 3701 (4.965 sec)\n",
      "INFO:tensorflow:global_step/sec: 20.235\n",
      "INFO:tensorflow:loss = 0.42498222, step = 3801 (4.940 sec)\n",
      "INFO:tensorflow:global_step/sec: 20.2576\n",
      "INFO:tensorflow:loss = 0.26133338, step = 3901 (4.937 sec)\n",
      "INFO:tensorflow:global_step/sec: 20.2807\n",
      "INFO:tensorflow:loss = 0.2981467, step = 4001 (4.931 sec)\n",
      "INFO:tensorflow:global_step/sec: 20.1535\n",
      "INFO:tensorflow:loss = 0.48376676, step = 4101 (4.961 sec)\n",
      "INFO:tensorflow:Saving checkpoints for 4200 into .\\model.ckpt.\n",
      "INFO:tensorflow:Loss for final step: 0.2717444.\n"
     ]
    },
    {
     "data": {
      "text/plain": [
       "<tensorflow.python.estimator.estimator.Estimator at 0x1c406997e48>"
      ]
     },
     "execution_count": 18,
     "metadata": {},
     "output_type": "execute_result"
    }
   ],
   "source": [
    "# Train the model\n",
    "train_input_fn = tf.estimator.inputs.numpy_input_fn(\n",
    "    x={\"x\": train_data},\n",
    "    y=train_labels,\n",
    "    batch_size=100,\n",
    "    num_epochs=None,\n",
    "    shuffle=True)\n",
    "\n",
    "mnist_classifier.train(\n",
    "    input_fn=train_input_fn,\n",
    "    steps=2000)"
   ]
  },
  {
   "cell_type": "markdown",
   "metadata": {},
   "source": [
    "## Evaluation sur les données de test\n",
    "On évalue le modèle préalablement entrainé sur les données de test pour verifier la justesse de la prédiction."
   ]
  },
  {
   "cell_type": "code",
   "execution_count": 19,
   "metadata": {},
   "outputs": [
    {
     "name": "stdout",
     "output_type": "stream",
     "text": [
      "INFO:tensorflow:Starting evaluation at 2018-02-19-16:22:07\n",
      "INFO:tensorflow:Restoring parameters from .\\model.ckpt-4200\n",
      "INFO:tensorflow:Finished evaluation at 2018-02-19-16:22:09\n",
      "INFO:tensorflow:Saving dict for global step 4200: accuracy = 0.918, global_step = 4200, loss = 0.2997258\n",
      "Résultats de l'évaluation: {'accuracy': 0.918, 'loss': 0.2997258, 'global_step': 4200}\n"
     ]
    }
   ],
   "source": [
    "eval_input_fn = tf.estimator.inputs.numpy_input_fn(\n",
    "    x={\"x\": eval_data},\n",
    "    y=eval_labels,\n",
    "    num_epochs=1,\n",
    "    shuffle=False)\n",
    "\n",
    "eval_results = mnist_classifier.evaluate(input_fn=eval_input_fn)\n",
    "print(\"Résultats de l'évaluation:\",eval_results)  "
   ]
  },
  {
   "cell_type": "markdown",
   "metadata": {
    "collapsed": true
   },
   "source": [
    "## Conclusion\n",
    "L'exactitude des prédictions dépend du nombre d'itérations lors de l'apprentissage \n",
    "(on utilise la méthode du gradient stochastique pour optimiser les paramètres du modèle).\n",
    "\n",
    "Avec un peu de patience, on peut atteindre une precision de plus de 97%!"
   ]
  },
  {
   "cell_type": "code",
   "execution_count": null,
   "metadata": {},
   "outputs": [],
   "source": []
  }
 ],
 "metadata": {
  "kernelspec": {
   "display_name": "Python 3",
   "language": "python",
   "name": "python3"
  },
  "language_info": {
   "codemirror_mode": {
    "name": "ipython",
    "version": 3
   },
   "file_extension": ".py",
   "mimetype": "text/x-python",
   "name": "python",
   "nbconvert_exporter": "python",
   "pygments_lexer": "ipython3",
   "version": "3.6.4"
  }
 },
 "nbformat": 4,
 "nbformat_minor": 2
}
